{
 "cells": [
  {
   "cell_type": "markdown",
   "metadata": {},
   "source": [
    "# Numerical Optimization Algorithms"
   ]
  },
  {
   "cell_type": "markdown",
   "metadata": {},
   "source": [
    "In this notebook, I will try to implement some numerical optimization algorithms and assess their performances. The examples follow Chapter 5 of Hamilton's time-series analysis textbook. The function to maximize will be $\\ell(\\phi)$, which in this particular case is the log-likelihood of an AR(1) process."
   ]
  },
  {
   "cell_type": "code",
   "execution_count": 1,
   "metadata": {},
   "outputs": [],
   "source": [
    "import torch\n",
    "from torch import autograd\n",
    "import numpy as np\n",
    "import math\n",
    "\n",
    "import matplotlib.pyplot as plt\n",
    "%matplotlib inline\n",
    "plt.rc('figure', figsize=(14, 8))\n",
    "plt.rc('grid', color='gray', alpha = 0.3, linestyle='solid')"
   ]
  },
  {
   "cell_type": "code",
   "execution_count": 2,
   "metadata": {},
   "outputs": [],
   "source": [
    "# Define function to maximize (log-likelihood of an AR(1) process)\n",
    "\n",
    "def log_likelihood_float(phi):\n",
    "    y = torch.Tensor([0.8,0.2,-1.2,-0.4,0])\n",
    "    T = 5\n",
    "    s = torch.Tensor([0])\n",
    "    for t in range(1,T-1):\n",
    "        s += (y[t]-phi*y[t-1])**2\n",
    "    return(-(T/2)*torch.log(torch.Tensor([2*math.pi]))+(1/2)*torch.log(1-phi**2) - (1/2)*(1-phi**2)*y[0]**2 - (1/2)*s)\n",
    "\n",
    "def log_likelihood(phi):\n",
    "    try:\n",
    "        ll = torch.Tensor(list(map(log_likelihood_float, phi)))\n",
    "    except:\n",
    "        ll = log_likelihood_float(phi)\n",
    "    return(ll)"
   ]
  },
  {
   "cell_type": "code",
   "execution_count": 3,
   "metadata": {},
   "outputs": [],
   "source": [
    "# initial guess of phi\n",
    "phi = torch.Tensor([0.0])"
   ]
  },
  {
   "cell_type": "code",
   "execution_count": 4,
   "metadata": {},
   "outputs": [
    {
     "data": {
      "text/plain": [
       "tensor([-5.7347])"
      ]
     },
     "execution_count": 4,
     "metadata": {},
     "output_type": "execute_result"
    }
   ],
   "source": [
    "log_likelihood(phi)"
   ]
  },
  {
   "cell_type": "markdown",
   "metadata": {},
   "source": [
    "## Grid Search"
   ]
  },
  {
   "cell_type": "markdown",
   "metadata": {},
   "source": [
    "Compute values of $\\ell(\\phi)$ for all $-1 < \\phi < 1$ with increments of 0.1 and plot them:"
   ]
  },
  {
   "cell_type": "code",
   "execution_count": 5,
   "metadata": {},
   "outputs": [],
   "source": [
    "a = -0.9\n",
    "b = 0.9\n",
    "grid = torch.arange(a, b,0.1)\n",
    "ll_grid = log_likelihood(grid)"
   ]
  },
  {
   "cell_type": "code",
   "execution_count": 6,
   "metadata": {},
   "outputs": [
    {
     "data": {
      "image/png": "[encoded data removed]",
      "text/plain": [
       "<Figure size 432x288 with 1 Axes>"
      ]
     },
     "metadata": {},
     "output_type": "display_data"
    }
   ],
   "source": [
    "# Visualizing the data\n",
    "plt.scatter(grid, ll_grid);"
   ]
  },
  {
   "cell_type": "markdown",
   "metadata": {},
   "source": [
    "The next step is to find the 2 arg maximum values for phi and conducting another more granular grid search between the newly found values."
   ]
  },
  {
   "cell_type": "code",
   "execution_count": 7,
   "metadata": {},
   "outputs": [],
   "source": [
    "values, indices = ll_grid.topk(2)"
   ]
  },
  {
   "cell_type": "code",
   "execution_count": 8,
   "metadata": {},
   "outputs": [
    {
     "data": {
      "text/plain": [
       "(tensor([-5.7047, -5.7071]), tensor([ 11,  10]))"
      ]
     },
     "execution_count": 8,
     "metadata": {},
     "output_type": "execute_result"
    }
   ],
   "source": [
    "values, indices"
   ]
  },
  {
   "cell_type": "code",
   "execution_count": 9,
   "metadata": {},
   "outputs": [],
   "source": [
    "# Define new grid\n",
    "indices = indices.sort()[0]\n",
    "a = grid[indices[0]]\n",
    "b = grid[indices[1]]\n",
    "grid = torch.arange(a, b,0.01)\n",
    "ll_grid = log_likelihood(grid)"
   ]
  },
  {
   "cell_type": "code",
   "execution_count": 10,
   "metadata": {},
   "outputs": [
    {
     "data": {
      "image/png": "[encoded data removed]",
      "text/plain": [
       "<Figure size 432x288 with 1 Axes>"
      ]
     },
     "metadata": {},
     "output_type": "display_data"
    }
   ],
   "source": [
    "# Visualizing the data\n",
    "plt.scatter(grid, ll_grid);"
   ]
  },
  {
   "cell_type": "markdown",
   "metadata": {},
   "source": [
    "If we stop here, we can find the estimated argmax."
   ]
  },
  {
   "cell_type": "code",
   "execution_count": 11,
   "metadata": {},
   "outputs": [],
   "source": [
    "mle = grid[ll_grid.argmax()]"
   ]
  },
  {
   "cell_type": "code",
   "execution_count": 12,
   "metadata": {},
   "outputs": [
    {
     "data": {
      "text/plain": [
       "tensor(0.1600)"
      ]
     },
     "execution_count": 12,
     "metadata": {},
     "output_type": "execute_result"
    }
   ],
   "source": [
    "mle"
   ]
  },
  {
   "cell_type": "markdown",
   "metadata": {},
   "source": [
    "We can expand the algorithm to go through an arbitrary number of iteratons."
   ]
  },
  {
   "cell_type": "code",
   "execution_count": 13,
   "metadata": {},
   "outputs": [],
   "source": [
    "def grid_search(function, a=-1, b=1, n_grid = 10, n_iterations = 5):\n",
    "    \n",
    "    for i in range(n_iterations):\n",
    "        # Divide the search interval into n_grid segments\n",
    "        step = (b-a)/n_grid\n",
    "        grid = torch.arange(a, b, step)\n",
    "        ll_grid = function(grid)\n",
    "\n",
    "        # Define solution\n",
    "        if i == n_iterations-1:\n",
    "            mle = grid[ll_grid.argmax()]\n",
    "            max_ll = ll_grid.max()\n",
    "            return (mle, max_ll)\n",
    "        # Define new search grif\n",
    "        else:\n",
    "            values, indices = ll_grid.topk(2)\n",
    "            indices = indices.sort()[0]\n",
    "            a = grid[indices[0]]\n",
    "            b = grid[indices[1]]"
   ]
  },
  {
   "cell_type": "code",
   "execution_count": 14,
   "metadata": {},
   "outputs": [
    {
     "data": {
      "text/plain": [
       "(tensor(0.1484), tensor(-5.7028))"
      ]
     },
     "execution_count": 14,
     "metadata": {},
     "output_type": "execute_result"
    }
   ],
   "source": [
    "grid_search(log_likelihood, n_grid=3, n_iterations=1000)"
   ]
  },
  {
   "cell_type": "markdown",
   "metadata": {},
   "source": [
    "Or, as it is more commonly done, we can expand the algorithm to iterate enough times untile the required accuracy is desired."
   ]
  },
  {
   "cell_type": "code",
   "execution_count": 15,
   "metadata": {},
   "outputs": [],
   "source": [
    "def grid_search(function, a=-1, b=1, n_grid = 10, accuracy = 0.01):\n",
    "    \n",
    "    i = 0\n",
    "    step = (b-a)/n_grid\n",
    "    \n",
    "    while(step>accuracy):\n",
    "        grid = torch.arange(a, b, step)\n",
    "        ll_grid = function(grid)\n",
    "        values, indices = ll_grid.topk(2)\n",
    "        indices = indices.sort()[0]\n",
    "        a = grid[indices[0]]\n",
    "        b = grid[indices[1]]\n",
    "        step = (b-a)/n_grid\n",
    "            \n",
    "    # Define solution\n",
    "    mle = grid[ll_grid.argmax()]\n",
    "    max_ll = ll_grid.max()\n",
    "    return (mle, max_ll)"
   ]
  },
  {
   "cell_type": "code",
   "execution_count": 16,
   "metadata": {},
   "outputs": [
    {
     "data": {
      "text/plain": [
       "(tensor(0.1485), tensor(-5.7028))"
      ]
     },
     "execution_count": 16,
     "metadata": {},
     "output_type": "execute_result"
    }
   ],
   "source": [
    "grid_search(log_likelihood, n_grid=3, accuracy = 0.0001)"
   ]
  },
  {
   "cell_type": "markdown",
   "metadata": {},
   "source": [
    "Grid search can be a very good method when we want to optimize w.r.t a single parameter. When the dimension of $\\theta $ becomes large, it becomes quickly intractable. A method much more suited in this case is the steepest ascent algorithm."
   ]
  },
  {
   "cell_type": "markdown",
   "metadata": {},
   "source": [
    "# Steepest Ascent (Gradient descent)"
   ]
  },
  {
   "cell_type": "markdown",
   "metadata": {},
   "source": [
    "This algorithm takes a differentiable functions and recursively updates its initial guess by moving in the direction of steepest ascent (indicated by the gradient). The speed of ascent is regulated by the learning rate hyperparameter."
   ]
  },
  {
   "cell_type": "code",
   "execution_count": 17,
   "metadata": {},
   "outputs": [],
   "source": [
    "# Analitically, we know that the argmax of the next function is (0,0)\n",
    "\n",
    "def log_likelihood(theta):\n",
    "    return(-1.5*theta[0]**2 - 2*theta[1]**2)"
   ]
  },
  {
   "cell_type": "markdown",
   "metadata": {},
   "source": [
    "Once we have our function $\\ell(\\underline{\\theta})$, we need to find its gradient, $g(\\underline{\\theta})$."
   ]
  },
  {
   "cell_type": "code",
   "execution_count": 18,
   "metadata": {},
   "outputs": [],
   "source": [
    "def gradient(theta):\n",
    "    return(torch.tensor([-3*theta[0],- 4*theta[1]]))"
   ]
  },
  {
   "cell_type": "code",
   "execution_count": 19,
   "metadata": {},
   "outputs": [],
   "source": [
    "# Define initial guess for theta and learning rate parameter\n",
    "\n",
    "theta_0 = torch.Tensor([1,1])\n",
    "lr = 0.01"
   ]
  },
  {
   "cell_type": "markdown",
   "metadata": {},
   "source": [
    "Once we establish the initial guess for the parameter: $\\underline{\\theta}^0$, the steepest ascent is a recursive algorithm for which at every step t (t>0), we have:\n",
    "\n",
    "$\\underline{\\theta}^{t} = \\underline{\\theta}^{t-1} + lr*g(\\underline{\\theta}^{t-1})$\n",
    "\n",
    "Which componentwise means:\n",
    "\n",
    "$\\theta_{it} = \\theta_{it-1} + lr*\\frac{\\partial\\ell}{\\partial\\theta_{i}}(\\theta_{it-1})$ \n",
    "\n",
    "And holds for each i. The algorithm can be iterated until some congergence criterion has been reached."
   ]
  },
  {
   "cell_type": "code",
   "execution_count": 20,
   "metadata": {},
   "outputs": [],
   "source": [
    "def steepest_ascent(function, gradient, guess = torch.Tensor([1,1]), lr=0.01, accuracy=0.0001):\n",
    "    \n",
    "    # Here, accuracy is expressed in terms of max component of the gradient\n",
    "    step = torch.ones(1)\n",
    "    while step.abs() > accuracy:\n",
    "        guess += lr*gradient(guess)\n",
    "        step = torch.max(gradient(guess))\n",
    "        \n",
    "    return (guess, function(guess))"
   ]
  },
  {
   "cell_type": "code",
   "execution_count": 21,
   "metadata": {},
   "outputs": [],
   "source": [
    "mle, maximum = steepest_ascent(log_likelihood, gradient)"
   ]
  },
  {
   "cell_type": "code",
   "execution_count": 22,
   "metadata": {},
   "outputs": [
    {
     "name": "stdout",
     "output_type": "stream",
     "text": [
      "tensor(1.00000e-04 *\n",
      "       [ 3.6362,  0.2458])\n"
     ]
    }
   ],
   "source": [
    "print(mle)"
   ]
  },
  {
   "cell_type": "markdown",
   "metadata": {},
   "source": [
    "# Newton-Raphson"
   ]
  },
  {
   "cell_type": "markdown",
   "metadata": {},
   "source": [
    "Provided that second derivatives of the $\\ell$ function exist, and that $\\ell$ is concave, then the NR algorithm converges more quickly (with less iterations) compared to the steepest ascent algorithm. The algorithm is based on maximizing the 2 order taylor expansion of $\\ell$ aroung a guess which gets sequentially updated.\n",
    "Contrary to the previous example, we will use the differentiations abilities of pytorch in order to compute the second derivatives (hessian matrix) so that we do not have to derive them analytically and hardcode them. The recursive algorithm can be summarized in one equation:\n",
    "\n",
    "$\\underline{\\theta}^{t} = \\underline{\\theta}^{t-1} + lr*[-H(\\underline{\\theta}^{t-1})]^{-1}g(\\underline{\\theta}^{t-1})$"
   ]
  },
  {
   "cell_type": "code",
   "execution_count": 23,
   "metadata": {},
   "outputs": [],
   "source": [
    "def log_likelihood(theta):\n",
    "    res = -1.5*theta[0]**2 - 2*theta[1]**2\n",
    "    return(torch.stack([res]))\n",
    "\n",
    "def gradient(theta):\n",
    "    return(torch.tensor([-3*theta[0],- 4*theta[1]]))"
   ]
  },
  {
   "cell_type": "code",
   "execution_count": 24,
   "metadata": {},
   "outputs": [],
   "source": [
    "guess = torch.Tensor([1,1])\n",
    "guess.requires_grad = True"
   ]
  },
  {
   "cell_type": "code",
   "execution_count": 25,
   "metadata": {},
   "outputs": [],
   "source": [
    "# Compute gradient and Hessian using pytorch.autograd, code by apaszke\n",
    "# We need the code to compute a Jacobian because the Hessian is computed as the gradient's Jacobian\n",
    "\n",
    "def jacobian(fx, x, create_graph=False):                                                               \n",
    "    jac = []\n",
    "    # Reshapes the outputs of the function\n",
    "    flat_fx = fx.reshape(-1)\n",
    "    # Initializes grad_fx be the same size as the function output (if function outpus is a scalar, so grad_fx)\n",
    "    grad_fx = torch.zeros_like(flat_fx) \n",
    "    # loops over the function outputs (only one is f is a scalar valued function)\n",
    "    for i in range(len(flat_fx)):     \n",
    "        # Since we only want to compute the gradient wrt the ith output, we will one-hot encode it and feed it to torch.autograd\n",
    "        grad_fx[i] = 1. \n",
    "        # Computes the gradient of fx wrt x. grad_fx selects the component of f for which we want to compute the gradient\n",
    "        grad_x, = torch.autograd.grad(flat_fx, x, grad_fx, retain_graph=True, create_graph=create_graph)\n",
    "        # Appends the gradient wrt to the first output to the Jacobian (Jacobian = gradient for scalar valued functions)\n",
    "        jac.append(grad_x.reshape(x.shape))                                                           \n",
    "        grad_fx[i] = 0.\n",
    "    # Returns a tensor by stacking all the gradients and gives the tensor the dimension of n_output x n_inputs\n",
    "    return torch.stack(jac).reshape(fx.shape + x.shape)                                               \n",
    "                                                                                                      \n",
    "def hessian(y, x):       \n",
    "    H = jacobian(jacobian(y, x, create_graph=True), x)\n",
    "    return H"
   ]
  },
  {
   "cell_type": "code",
   "execution_count": 26,
   "metadata": {},
   "outputs": [
    {
     "data": {
      "text/plain": [
       "tensor([[-3., -4.]])"
      ]
     },
     "execution_count": 26,
     "metadata": {},
     "output_type": "execute_result"
    }
   ],
   "source": [
    "# Check that jacobian computes indeed the gradient (it should be [-3, -4])\n",
    "jacobian(log_likelihood(guess), guess)"
   ]
  },
  {
   "cell_type": "code",
   "execution_count": 27,
   "metadata": {},
   "outputs": [],
   "source": [
    "# Define the updating\n",
    "def NR_step(function, theta_0, lr = 0.1, gradient_output = False):\n",
    "    gradient = jacobian(log_likelihood(theta_0), theta_0)\n",
    "    gradient = gradient.reshape(2,1)\n",
    "    H = hessian(log_likelihood(theta_0), theta_0)\n",
    "    H = H.reshape(2,2)\n",
    "    inv_H = H.inverse()\n",
    "    theta_1 = theta_0 + lr * torch.mm(-inv_H, gradient).reshape(-1)\n",
    "    if gradient_output == False:\n",
    "        return (theta_1)\n",
    "    else:\n",
    "        return (theta_1, gradient)"
   ]
  },
  {
   "cell_type": "code",
   "execution_count": 28,
   "metadata": {},
   "outputs": [],
   "source": [
    "# Build a recursion (th code would greatly benefit from a decaying structure of the lr, we avoid this step for the notebook purposes)\n",
    "\n",
    "grad_max = torch.ones(1)\n",
    "lr = 0.01\n",
    "max_steps = 1000\n",
    "accuracy = 0.01 # measured on the gradient\n",
    "guess_0 = torch.Tensor([1,1])\n",
    "guess_0.requires_grad = True\n",
    "step = 0\n",
    "\n",
    "while grad_max.numpy() > accuracy and step <= 1000:\n",
    "    guess_1, gradient = NR_step(log_likelihood, guess_0, lr = lr, gradient_output=True)\n",
    "    grad_max = torch.max(gradient).abs()\n",
    "    guess_0 = guess_1\n",
    "    step += 1"
   ]
  },
  {
   "cell_type": "code",
   "execution_count": 29,
   "metadata": {},
   "outputs": [
    {
     "name": "stdout",
     "output_type": "stream",
     "text": [
      "Steps:  568 \n",
      "Learning rate:  0.01 \n",
      "Argmax:  [0.00328417 0.00328417] \n",
      "Max:  [-3.7750156e-05]\n"
     ]
    }
   ],
   "source": [
    "# Check\n",
    "print('Steps: ', step-1, \n",
    "      '\\nLearning rate: ', lr,\n",
    "     '\\nArgmax: ', guess_0.detach().numpy(),\n",
    "     '\\nMax: ', log_likelihood(guess_0).detach().numpy())"
   ]
  },
  {
   "cell_type": "markdown",
   "metadata": {},
   "source": [
    "If $\\underline{\\theta}$ is n-dimensional, H will contain $\\frac{n(n-1)}{2}$ values to be computed. This can be inefficient as n gets large. An alternative could be to guess H at each step based on the gradients and arguments differences. This is based off the fact that the Hessian is simply the Jacobian of the gradient. These methods are known as modified Newton-Raphson."
   ]
  }
 ],
 "metadata": {
  "kernelspec": {
   "display_name": "Python 3",
   "language": "python",
   "name": "python3"
  },
  "language_info": {
   "codemirror_mode": {
    "name": "ipython",
    "version": 3
   },
   "file_extension": ".py",
   "mimetype": "text/x-python",
   "name": "python",
   "nbconvert_exporter": "python",
   "pygments_lexer": "ipython3",
   "version": "3.6.5"
  }
 },
 "nbformat": 4,
 "nbformat_minor": 2
}
