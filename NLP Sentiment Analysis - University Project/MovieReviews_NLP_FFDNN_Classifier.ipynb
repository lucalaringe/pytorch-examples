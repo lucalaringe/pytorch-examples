{
 "cells": [
  {
   "cell_type": "markdown",
   "metadata": {},
   "source": [
    "## NLP Sentiment Analysis - Movie Reviews Binary Classifier"
   ]
  },
  {
   "cell_type": "markdown",
   "metadata": {},
   "source": [
    "The following code was developed as a project for the 'AI Fundamentals' class at Keio University. Pytorh is used as the main library.\n",
    "The main objective of the project was to build a FFD-NN binary classifier for a dataset of IBDM movie reviews, which are classified as positive (1) or negative (0). The input to the FFD architecture are sentences. Each word of the sentenced is mapped to a 10-dimensional word embedding (learned from the data), subsequently all the word embeddings in the senteces are averaged out. This method totally disregards the order of the words in a sentence and thus will not be able to spot subtle use of language such as irony or sarcasm. Nevertheless, it achieved good results despite its simplicity.\n",
    "The final step of the project was to analyse the derived word embeddings by means of the euclidean norm."
   ]
  },
  {
   "cell_type": "code",
   "execution_count": 7,
   "metadata": {},
   "outputs": [],
   "source": [
    "# importing the libraries I need\n",
    "import numpy as np\n",
    "import pandas as pd\n",
    "import matplotlib.pyplot as plt\n",
    "plt.rc('figure', figsize=(14, 8))\n",
    "plt.rc('grid', color='gray', alpha = 0.3, linestyle='solid')\n",
    "import os\n",
    "import pickle\n",
    "\n",
    "import torch\n",
    "import torch.nn as nn\n",
    "import torch.nn.functional as F\n",
    "from torch.utils.data import Dataset, DataLoader\n",
    "\n",
    "import nltk  # natural language toolkit\n",
    "from nltk.tokenize import word_tokenize\n",
    "# from nltk.corpus import stopwords      I actually dodn't use this"
   ]
  },
  {
   "cell_type": "code",
   "execution_count": 8,
   "metadata": {},
   "outputs": [],
   "source": [
    "root_dir = os.getcwd()\n",
    "\n",
    "# Defining a file reader to read train, dev and test data\n",
    "def read_file(file_name):\n",
    "    '''\n",
    "    Takes as input either the train, dev or test file names and outputs a list of lists\n",
    "    containg datapoints consisting of a sentence (string) and a target (an integer)\n",
    "    '''\n",
    "    with open(file_name,'r') as text_file:\n",
    "        l = []\n",
    "        for line in text_file:\n",
    "            l.append(line.rstrip().split('\\t'))\n",
    "            \n",
    "        # Transforming target variables from stings to integers\n",
    "        l = [[sentence, int(target)] for sentence, target in l]\n",
    "        \n",
    "        return(l)\n",
    "\n",
    "# loading train, dev and test data\n",
    "train_list = read_file('senti_binary.train')\n",
    "dev_list = read_file('senti_binary.dev')\n",
    "test_list = read_file('senti_binary.test')"
   ]
  },
  {
   "cell_type": "code",
   "execution_count": 9,
   "metadata": {},
   "outputs": [
    {
     "name": "stdout",
     "output_type": "stream",
     "text": [
      "['contains no wit , only labored gags', 0]\n"
     ]
    }
   ],
   "source": [
    "# Check that everything worked as expected\n",
    "\n",
    "print(train_list[1])"
   ]
  },
  {
   "cell_type": "code",
   "execution_count": 10,
   "metadata": {},
   "outputs": [],
   "source": [
    "# To deal with apostrophes after tokenization has taken place\n",
    "\n",
    "apostrophe_dict = {\n",
    "\"n't\" : \"not\",\n",
    "\"'d\"  : \"would\",\n",
    "\"'ll\" : \"will\",\n",
    "\"'m\"  : \"am\",\n",
    "\"'s\"  : \"is\",\n",
    "\"'re\" : \"are\",\n",
    "\"'ve\" : \"have\",\n",
    "\"wo\"  : \"will\",  # won't -> [wo, n't] -> [will, not]\n",
    "\"sha\" : \"shall\"  # shan't -> [sha, n't] -> [shall, not]\n",
    "}"
   ]
  },
  {
   "cell_type": "code",
   "execution_count": 11,
   "metadata": {},
   "outputs": [],
   "source": [
    "# Defining a useful function to preprocess the text of the sentences\n",
    "def text_preprocess(sentence):\n",
    "    \n",
    "    #1.st step: lowercase\n",
    "    sentence_lower = sentence.lower()\n",
    "    \n",
    "    #2.nd sep: replace '-' with ' ' so we won't lose words in step 5\n",
    "    sentence_replace = sentence_lower.replace('-',' ')\n",
    "    \n",
    "    # 3.rd step: tokenization\n",
    "    sentence_token = word_tokenize(sentence_replace)\n",
    "    \n",
    "    # 4.th step: apostrophe handling\n",
    "    setence_apostrophe = [apostrophe_dict[word] if word in apostrophe_dict else word for word in sentence_token]\n",
    "    \n",
    "#########    \n",
    "    # I will no remove stop words because I tried and keeping them improves the accuracy of the models\n",
    "    \n",
    "    # 5.th step: removing stop words\n",
    "#     sentence_stop = [word for word in setence_apostrophe if word not in stopwords.words('english')]\n",
    "#########    \n",
    "    \n",
    "    # 6.th step: removing non alphabetic characters\n",
    "    sentence_alpha = [word for word in setence_apostrophe if word.isalpha()]\n",
    "    \n",
    "    return(sentence_alpha)"
   ]
  },
  {
   "cell_type": "code",
   "execution_count": 20,
   "metadata": {},
   "outputs": [
    {
     "name": "stdout",
     "output_type": "stream",
     "text": [
      "['contains', 'no', 'wit', 'only', 'labored', 'gags']\n"
     ]
    }
   ],
   "source": [
    "# Check\n",
    "print(text_preprocess(train_list[1][0]))"
   ]
  },
  {
   "cell_type": "code",
   "execution_count": 12,
   "metadata": {},
   "outputs": [
    {
     "name": "stdout",
     "output_type": "stream",
     "text": [
      "The length of our dictionary is:  13623\n"
     ]
    }
   ],
   "source": [
    "# Let's now build our dictionary of words.\n",
    "\n",
    "# First, preprocess all the sentences in the train set\n",
    "train_sentences_list = [text_preprocess(datapoint[0]) for datapoint in train_list]\n",
    "\n",
    "# Getting the length of the sentences (it will be useful later)\n",
    "train_sentences_lengths = np.array([len(sentence) for sentence in train_sentences_list])\n",
    "\n",
    "# Now, flatten the list, remove the duplicates and sort the list\n",
    "train_words_list = [word  for sentence in train_sentences_list for word in sentence]\n",
    "\n",
    "train_unique_words_list = []\n",
    "for word in train_words_list:\n",
    "    if not (word in train_unique_words_list):\n",
    "        train_unique_words_list.append(word)\n",
    "\n",
    "train_unique_words_list.sort()\n",
    "\n",
    "# Finally, let's create the dictionary which associates\n",
    "word_to_idx = {word: (i+1) for i, word in enumerate(train_unique_words_list)}\n",
    "\n",
    "# Let's add to the thictionary, to index 0, a word called __unknown__ for which we will map all the words we don't know\n",
    "word_to_idx['__unknown__'] = 0\n",
    "\n",
    "# Let's define a dictionary to retrieve the words from the indexes\n",
    "idx_to_word = {word_to_idx[word]: word for word in word_to_idx} \n",
    "\n",
    "# Print the length of the dictionary:\n",
    "print('The length of our dictionary is: ', len(word_to_idx))"
   ]
  },
  {
   "cell_type": "code",
   "execution_count": 19,
   "metadata": {},
   "outputs": [
    {
     "data": {
      "text/plain": [
       "2456"
      ]
     },
     "execution_count": 19,
     "metadata": {},
     "output_type": "execute_result"
    }
   ],
   "source": [
    "# Check\n",
    "print(word_to_idx['contains'])"
   ]
  },
  {
   "cell_type": "code",
   "execution_count": 7,
   "metadata": {},
   "outputs": [
    {
     "name": "stdout",
     "output_type": "stream",
     "text": [
      "Max length of a sentence is:  48\n"
     ]
    },
    {
     "data": {
      "image/png": "[encoded data removed]",
      "text/plain": [
       "<Figure size 432x288 with 1 Axes>"
      ]
     },
     "metadata": {
      "needs_background": "light"
     },
     "output_type": "display_data"
    }
   ],
   "source": [
    "# Let's visualize the distribution of the lengths of the sentences\n",
    "\n",
    "plt.hist(train_sentences_lengths);\n",
    "\n",
    "print('Max length of a sentence is: ', np.max(train_sentences_lengths))"
   ]
  },
  {
   "cell_type": "markdown",
   "metadata": {},
   "source": [
    "Since our architecture will have a fixed-lenght input, all of our sentences must be of fixed length. Since the maximum length of a sentence is 48 words, we will set all the sentences to be 50 words. The sentences of less than 50 words will be padded with zeroes (the \\__unknown__) word in order to reach length 50."
   ]
  },
  {
   "cell_type": "code",
   "execution_count": 22,
   "metadata": {},
   "outputs": [],
   "source": [
    "# Defining some useful functions\n",
    "\n",
    "def tokenized_sentence_to_idx_tensor(tokenized_sentence):\n",
    "    '''\n",
    "    Takes in a list of strings and returns a 50-dimensional long tensor of indexes (of our dictionary).\n",
    "    If the word are unknown or the sentence is shorter than 50, the indexes returned will be that of the\n",
    "    unknown word. In our case 0.\n",
    "    '''\n",
    "    idx_list = []\n",
    "    for i in range(50):\n",
    "        \n",
    "        try:\n",
    "            word = tokenized_sentence[i]\n",
    "            idx = word_to_idx[word]\n",
    "            idx_list.append(idx)\n",
    "        except:\n",
    "            idx_list.append(0)\n",
    "    \n",
    "    return torch.LongTensor(idx_list)\n",
    "\n",
    "\n",
    "def sentence_to_idx_tensor(sentence):\n",
    "    '''\n",
    "    Takes in a sentence in form of a string, preprocesses it and then  returns a 50-dimensional \n",
    "    long tensor of indexes (of our dictionary). If the word are unknown or the sentence is shorter than 50,\n",
    "    the indexes returned will be that of the unknown word. In our case 0.\n",
    "    '''\n",
    "    return(tokenized_sentence_to_idx_tensor(text_preprocess(sentence)))"
   ]
  },
  {
   "cell_type": "code",
   "execution_count": 23,
   "metadata": {},
   "outputs": [
    {
     "data": {
      "text/plain": [
       "tensor([  2456,   8085,  13413,   8280,   6756,   4932,      0,      0,\n",
       "             0,      0,      0,      0,      0,      0,      0,      0,\n",
       "             0,      0,      0,      0,      0,      0,      0,      0,\n",
       "             0,      0,      0,      0,      0,      0,      0,      0,\n",
       "             0,      0,      0,      0,      0,      0,      0,      0,\n",
       "             0,      0,      0,      0,      0,      0,      0,      0,\n",
       "             0,      0])"
      ]
     },
     "execution_count": 23,
     "metadata": {},
     "output_type": "execute_result"
    }
   ],
   "source": [
    "# Check\n",
    "sentence_to_idx_tensor(train_list[1][0])"
   ]
  },
  {
   "cell_type": "code",
   "execution_count": 28,
   "metadata": {},
   "outputs": [],
   "source": [
    "# Let's build a dataset class (Inherits from torchs' Dataset class)\n",
    "\n",
    "class review_dataset(Dataset):\n",
    "    \n",
    "    def __init__(self, data, transform_features = None, transform_labels = None, n_words_in_sentence = 50):\n",
    "        super().__init__()\n",
    "        self.data = data\n",
    "        self.n_words_in_sentence = n_words_in_sentence\n",
    "        self.transform_features = transform_features\n",
    "        self.transform_labels = transform_labels\n",
    "        \n",
    "    def __len__(self):\n",
    "        return len(self.data)\n",
    "        \n",
    "    def __getitem__(self, index):\n",
    "        features = self.data[index][0]\n",
    "        labels = self.data[index][1]\n",
    "        \n",
    "        if self.transform_features:\n",
    "            features = self.transform_features(features)\n",
    "                \n",
    "        if self.transform_labels:\n",
    "            labels = self.transform_labels(labels)\n",
    "        \n",
    "        return (features, labels)\n",
    "    \n",
    "    def get_tensors_dataset(self, numpy=False):\n",
    "        '''\n",
    "        Returns the actual dataset made up by tensors that is used internally by the NN (useful when we want to move computations on gpu)\n",
    "        It il a list made up by 2 elements:\n",
    "        1.st element is tensor of features\n",
    "        2.nd element is the tensor of labels\n",
    "        \n",
    "        if numpy==True  numpy arrays instead of torch tensors are returned (Useful if we want to fit sklearn models)\n",
    "        '''\n",
    "        dataset_list = [self.__getitem__(i) for i in range(len(self))]\n",
    "        features_list = [datapoint[0].reshape(1,-1) for datapoint in dataset_list]\n",
    "        classes_list = [datapoint[1] for datapoint in dataset_list]\n",
    "        \n",
    "        if numpy==False:\n",
    "            return (torch.cat(features_list), torch.LongTensor(classes_list))\n",
    "\n",
    "        elif numpy==True:\n",
    "            return (torch.cat(features_list).numpy(), torch.LongTensor(classes_list).numpy())\n",
    "            \n",
    "            \n",
    "# Define instances of my reviews_dataset class (sentence_to_idx_tensor is used as a transform feature transformation)\n",
    "train = review_dataset(train_list, sentence_to_idx_tensor)\n",
    "dev = review_dataset(dev_list, sentence_to_idx_tensor)\n",
    "test = review_dataset(test_list, sentence_to_idx_tensor)"
   ]
  },
  {
   "cell_type": "code",
   "execution_count": 29,
   "metadata": {},
   "outputs": [
    {
     "data": {
      "text/plain": [
       "(tensor([  2456,   8085,  13413,   8280,   6756,   4932,      0,      0,\n",
       "              0,      0,      0,      0,      0,      0,      0,      0,\n",
       "              0,      0,      0,      0,      0,      0,      0,      0,\n",
       "              0,      0,      0,      0,      0,      0,      0,      0,\n",
       "              0,      0,      0,      0,      0,      0,      0,      0,\n",
       "              0,      0,      0,      0,      0,      0,      0,      0,\n",
       "              0,      0]), 0)"
      ]
     },
     "execution_count": 29,
     "metadata": {},
     "output_type": "execute_result"
    }
   ],
   "source": [
    "# Check \n",
    "train.__getitem__(1)"
   ]
  },
  {
   "cell_type": "code",
   "execution_count": 30,
   "metadata": {},
   "outputs": [],
   "source": [
    "# Define a dataloader to make the training in batches\n",
    "\n",
    "batch_size=64\n",
    "\n",
    "train_loader = DataLoader(batch_size=batch_size,\n",
    "                                  dataset=train, shuffle=True\n",
    "                                    )"
   ]
  },
  {
   "cell_type": "markdown",
   "metadata": {},
   "source": [
    "Let's now define a superclass for all the neural networks that we are going to build. This wrapper will contain function which are foing to be useful for all the NN that we are going to fit."
   ]
  },
  {
   "cell_type": "code",
   "execution_count": 31,
   "metadata": {},
   "outputs": [],
   "source": [
    "# Let's create a new superclass that inherits from nn.Module\n",
    "# We will add the fit, generate_pictures, predict_prob and predict methods to it, to reduce lines of code\n",
    "\n",
    "#####\n",
    "# I used an exponential decaying structure of the learning rate\n",
    "#####\n",
    "\n",
    "class neural_network_sentiment(nn.Module):\n",
    "    def __init__(self):\n",
    "        super().__init__()\n",
    "    \n",
    "    def predict_prob(self, review):\n",
    "        '''\n",
    "        Takes in a string (theoretically a film review) and outputs a tensor representing \n",
    "        the probability distribution over 0 (nevtive review) and 1 (positive review)\n",
    "        '''\n",
    "        prob_distribution = F.softmax(self.forward(sentence_to_idx_tensor(review)), dim=0)\n",
    "        return prob_distribution.data\n",
    "    \n",
    "    def predict(self, review):\n",
    "        '''\n",
    "        Takes in a string (theoretically a film review) and outputs a tensor representing \n",
    "        the predicted class\n",
    "        '''\n",
    "        prob_distribution = self.predict_prob(review)\n",
    "        return int(torch.max(self.forward(sentence_to_idx_tensor(review)), 0)[1].data.numpy())\n",
    "    \n",
    "    def fit(self,\n",
    "            train_loader,\n",
    "            test_loader,\n",
    "            dev_loader=None,\n",
    "            initial_lr = 1,\n",
    "            gamma = 0.95,\n",
    "            n_epochs=30,\n",
    "            score = False,\n",
    "            gpu=False,\n",
    "            print_results = True,\n",
    "            chart=True):\n",
    "        \n",
    "        '''\n",
    "        Takes in a dataloader for the training set, one for the test, set (if gpu==True they\n",
    "        should be already on the gpu) and trains the network.\n",
    "        score = True -> self.score will be defined as the accuracy on the dev set (at the last epoch).\n",
    "        When score = True, you should plug in a dev_loader, or the score will be computed on the test\n",
    "        print_results = True -> shows how the training is going every 10 epochs\n",
    "        chart=True -> shows a chart (1x2) representing epoch vs train and test loss and accuracy\n",
    "        '''\n",
    "        \n",
    "        if gpu==True:\n",
    "            # Move the model to gpu (the datasets are supposed to be already been moved on the gpu)\n",
    "            self.to(device)\n",
    "        \n",
    "        self.criterion = nn.CrossEntropyLoss()\n",
    "        self.optimizer = torch.optim.SGD(self.parameters(), lr=initial_lr, momentum=0.1)\n",
    "        self.scheduler = torch.optim.lr_scheduler.ExponentialLR(self.optimizer, gamma = gamma)\n",
    "        \n",
    "        self.train_loss = [0 for i in range(n_epochs)]\n",
    "        self.test_loss = []\n",
    "        self.train_accuracy = []\n",
    "        self.test_accuracy = []\n",
    "        \n",
    "        self.n_epochs = n_epochs\n",
    "        self.initial_lr = initial_lr\n",
    "        self.gamma = gamma\n",
    "        \n",
    "        for epoch in range(n_epochs):\n",
    "                \n",
    "            train_correct = 0\n",
    "            train_total = 0\n",
    "            \n",
    "            for i, (items, classes) in enumerate(train_loader):\n",
    "                                    \n",
    "                self.train()                             # begin training\n",
    "                     \n",
    "                self.optimizer.zero_grad()                # zero out gradients\n",
    "                outputs = self(items)                     # forward pass\n",
    "                loss = self.criterion(outputs, classes)   # get loss\n",
    "                loss.backward()                           # update gradients (backprop)\n",
    "                self.optimizer.step()                     # update parameters based on gradients\n",
    "        \n",
    "                # computes accuracy on training\n",
    "                train_total += classes.size(0)            # counts the number of rows we trained\n",
    "                _, predicted = torch.max(outputs.data, 1) # stores the predicted classes\n",
    "                train_correct += (predicted == classes.data).sum()  # counts how many times the model got it right\n",
    "        \n",
    "                # adds up training losses for the batches (divided by the number of batches in order to get the mean loss of the epoch)\n",
    "                self.train_loss[epoch] += loss/len(train_loader)\n",
    "\n",
    "            self.eval()                                   # begin evaluation\n",
    "    \n",
    "            # save accuracy on training\n",
    "            self.train_accuracy.append(100 * (train_correct.cpu().item() / train_total))\n",
    "    \n",
    "            # test set predictions\n",
    "            outputs = self(test_loader[0])\n",
    "    \n",
    "            # compute and save loss on test\n",
    "            loss = self.criterion(outputs, test_loader[1])\n",
    "            self.test_loss.append(loss.item())\n",
    "    \n",
    "            # compute and save accuracy on test\n",
    "            _, predicted = torch.max(outputs.data, 1)\n",
    "            total = test_loader[1].size(0)\n",
    "            correct = (predicted == test_loader[1]).sum()\n",
    "            self.test_accuracy.append((100 * correct.cpu().item() / total))\n",
    "            \n",
    "            if print_results == True:\n",
    "                if ((epoch+1)%1 == 0) or epoch==0:\n",
    "                    print ('Epoch %d/%d, Accuracy on Training Set: %.4f, Accuracy on Test Set: %.4f'\n",
    "                          %(epoch+1, n_epochs, self.train_accuracy[epoch], self.test_accuracy[epoch]))\n",
    "              \n",
    "            # Update learning rate\n",
    "            self.scheduler.step()\n",
    "            \n",
    "        if chart == True:\n",
    "            print('\\n')\n",
    "            \n",
    "            fig, ax = plt.subplots(1,2)\n",
    "            \n",
    "            epochs = range(1,self.n_epochs +1)\n",
    "\n",
    "            # train and test loss\n",
    "            ax[0].plot(epochs, self.train_loss, label='train loss', c = 'red')\n",
    "            ax[0].plot(epochs, self.test_loss, label='test loss', c = 'blue')\n",
    "            ax[0].set_title(\"Train and Test Loss\")\n",
    "            ax[0].set_xlabel('Epoch')\n",
    "            ax[0].set_ylabel('Loss')\n",
    "            ax[0].legend()\n",
    "\n",
    "            # train and test accuracy\n",
    "            ax[1].plot(epochs, self.train_accuracy, label='train accuracy', c = 'red')\n",
    "            ax[1].plot(epochs, self.test_accuracy, label='test accuracy', c = 'blue')\n",
    "            ax[1].set_title(\"Train and Test Accuracy\")\n",
    "            ax[0].set_xlabel('Epoch')\n",
    "            ax[0].set_ylabel('Accuracy')\n",
    "            ax[1].legend(); \n",
    "            \n",
    "            self.chart = fig\n",
    "        \n",
    "        if score == True:\n",
    "            if dev_loader:\n",
    "                outputs = self(dev_loader[0])\n",
    "                _, predicted = torch.max(outputs.data, 1)\n",
    "                total = dev_loader[1].size(0)\n",
    "                correct = (predicted == dev_loader[1]).sum()\n",
    "                self.score = 100 * (correct.cpu().item() / total)\n",
    "            else:\n",
    "                self.score = self.test_accuracy[-1]\n",
    "                \n",
    "        # Move again the neural network on the cpu (to make the other methods work)\n",
    "        if gpu == True:\n",
    "            torch.cuda.empty_cache() \n",
    "            self.cpu()\n",
    "        \n",
    "    def generate_training_pictures(self):\n",
    "                \n",
    "        '''\n",
    "        This method can only be used after the fit method has been called. It generates two pictures\n",
    "        that show the dynamics of the loss and accuracy for train and test set during training\n",
    "        model object attributes\n",
    "        '''\n",
    "        \n",
    "        plt.rc('figure', figsize=(14, 8))\n",
    "        plt.rc('grid', color='gray', alpha = 0.3, linestyle='solid')\n",
    "            \n",
    "        fig1, ax1 = plt.subplots()\n",
    "            \n",
    "        epochs = range(1,self.n_epochs +1)\n",
    "            \n",
    "        ax1.plot(epochs, self.train_loss, label='train loss', c = 'red')\n",
    "        ax1.plot(epochs, self.test_loss, label='test loss', c = 'blue')\n",
    "        ax1.set_title(\"Train and Test Loss\")\n",
    "        ax1.set_xlabel('Epoch')\n",
    "        ax1.set_ylabel('Loss')\n",
    "        ax1.legend()\n",
    "            \n",
    "        fig2, ax2 = plt.subplots()\n",
    "            \n",
    "        ax2.plot(epochs, self.train_accuracy, label='train accuracy', c = 'red')\n",
    "        ax2.plot(epochs, self.test_accuracy, label='test accuracy', c = 'blue')\n",
    "        ax2.set_title(\"Train and Test Accuracy\")\n",
    "        ax2.set_xlabel('Epoch')\n",
    "        ax2.set_ylabel('Accuracy')\n",
    "        ax2.legend(); \n",
    "            \n",
    "        self.fig1 = fig1\n",
    "        self.fig2 = fig2"
   ]
  },
  {
   "cell_type": "code",
   "execution_count": 32,
   "metadata": {},
   "outputs": [],
   "source": [
    "# Let's move the datasets to the GPU in case we want to train the model there\n",
    "\n",
    "# Initializes the device\n",
    "device = torch.device('cuda:0' if torch.cuda.is_available() else 'cpu')\n",
    "\n",
    "# Move the training set dataloader to the gpu\n",
    "train_loader_gpu = [(features.to(device), labels.to(device)) for (features,labels) in train_loader]\n",
    "\n",
    "# Creating tensors for the dev set\n",
    "dev_loader = dev.get_tensors_dataset()\n",
    "dev_loader_gpu = [element.to(device) for element in dev_loader]\n",
    "\n",
    "# Creating tensors for the test set\n",
    "test_loader = test.get_tensors_dataset()\n",
    "test_loader_gpu = [element.to(device) for element in test.get_tensors_dataset()]"
   ]
  },
  {
   "cell_type": "markdown",
   "metadata": {},
   "source": [
    "Let's start with a fairly simple perceptron architecture. The final layer of this architecture is going to be a simple linear map with 2 output nodes, which will contain the score assigned to each class. The most intresting part of the architecture is going to be the first input layer and how it is 'created'. As we saw earlier, the input is going to be a 50-dimensional vector of integers, which represent the position of the word in our dictionary. In order to transform this 50-dimensional vector into an average of word embedding (we wil use a 10-dimensial one) we need to follow 2 steps. The first step is to define the embeddings matrix, instead of relying on pre-computed embedding matrices we are going to train our own. The embedding smatrix has dimension length_dictionary x n, where n is the dimension of a single word embedding. The $i^{th}$ row of the embeddings matrix is the word embedding corresponding to the $i^{th}$ word of our dictionary. So far so good. The second step is to define some matrix calculations involving our inputs that actually compute the average of the word embeddings contained in a sentence. \n",
    "The first operation is to transform our 50-dimensional vector into a list of 50 length_dictionary-dimensional vectors such that an integer m is transformed into the mth canonical basis vector of a length_dictionary-dimensional space. When we compute a dot product between the embeddings matrix and each of this newly crated 50 vectors, we will obtain 50 10-dimensional embedding vectors, which will be then averaged together. Pytorch takes care of defining and training the embeddings matrix as well al all the matrix calculations involving the embeddings matrix. The final 10-dimensional vector (average of the 50 dimensional vectors) will then be the input for the first and last linear layer."
   ]
  },
  {
   "cell_type": "code",
   "execution_count": 33,
   "metadata": {},
   "outputs": [],
   "source": [
    "# Now let's try to build a very simple model that learns the \"sentiment-based word embeddings\", and then output a sentiment for the sentence \n",
    "# Averaging these embeddings and then input them in a simple perceptron classifier\n",
    "\n",
    "class perceptron(neural_network_sentiment):\n",
    "    \n",
    "    def __init__(self, dictionary_length, n_embeddings, n_classes):\n",
    "        super().__init__()\n",
    "        self.dictionary_length = dictionary_length\n",
    "        self.n_embeddings = n_embeddings\n",
    "        self.n_classes = n_classes\n",
    "        \n",
    "        # padding_idx=0 makes sure the embedding for the __unknown__ word is 0\n",
    "        self.embeddings = nn.Embedding(dictionary_length, self.n_embeddings, padding_idx=0, sparse=True) \n",
    "        \n",
    "        # Now that we have our embeddings we input them in a simple linar layer\n",
    "        self.fc1 = nn.Linear(self.n_embeddings, self.n_classes)\n",
    "        \n",
    "        \n",
    "    def forward(self, x):\n",
    "        embeds = self.embeddings(x)\n",
    "        \n",
    "        # Now we average the embeddings we get out in order to get a single embedding for the entire sentence\n",
    "        # First check if you have a single example or a batch and then compute the means\n",
    "        \n",
    "        if len(embeds.shape) == 2:\n",
    "            mean_embeds = torch.mean(embeds,0)\n",
    "            \n",
    "        elif len(embeds.shape) == 3:\n",
    "            mean_embeds = []\n",
    "            for embed in embeds:\n",
    "                mean_embeds.append(torch.mean(embed,0).reshape(1,self.n_embeddings))\n",
    "            mean_embeds = torch.cat(mean_embeds, 0)\n",
    "            \n",
    "        #Then we put the resulting embedding into a linear layer\n",
    "        out = self.fc1(mean_embeds)\n",
    "        \n",
    "        return(out)"
   ]
  },
  {
   "cell_type": "code",
   "execution_count": 34,
   "metadata": {},
   "outputs": [],
   "source": [
    "# Instantiate the perceptron\n",
    "my_embedings_perceptron = perceptron(len(word_to_idx), 10, 2)"
   ]
  },
  {
   "cell_type": "code",
   "execution_count": 35,
   "metadata": {},
   "outputs": [
    {
     "name": "stdout",
     "output_type": "stream",
     "text": [
      "Epoch 1/30, Accuracy on Training Set: 55.5613, Accuracy on Test Set: 49.9176\n",
      "Epoch 2/30, Accuracy on Training Set: 57.0610, Accuracy on Test Set: 52.7183\n",
      "Epoch 3/30, Accuracy on Training Set: 59.5540, Accuracy on Test Set: 56.6722\n",
      "Epoch 4/30, Accuracy on Training Set: 62.0989, Accuracy on Test Set: 60.7908\n",
      "Epoch 5/30, Accuracy on Training Set: 64.5266, Accuracy on Test Set: 63.7562\n",
      "Epoch 6/30, Accuracy on Training Set: 66.6023, Accuracy on Test Set: 66.3921\n",
      "Epoch 7/30, Accuracy on Training Set: 68.4554, Accuracy on Test Set: 68.5338\n",
      "Epoch 8/30, Accuracy on Training Set: 70.1510, Accuracy on Test Set: 69.5222\n",
      "Epoch 9/30, Accuracy on Training Set: 71.5794, Accuracy on Test Set: 70.7853\n",
      "Epoch 10/30, Accuracy on Training Set: 72.8994, Accuracy on Test Set: 71.3344\n",
      "Epoch 11/30, Accuracy on Training Set: 74.0352, Accuracy on Test Set: 72.5426\n",
      "Epoch 12/30, Accuracy on Training Set: 75.1162, Accuracy on Test Set: 73.3114\n",
      "Epoch 13/30, Accuracy on Training Set: 76.0427, Accuracy on Test Set: 74.2998\n",
      "Epoch 14/30, Accuracy on Training Set: 76.8653, Accuracy on Test Set: 75.2883\n",
      "Epoch 15/30, Accuracy on Training Set: 77.5973, Accuracy on Test Set: 75.5629\n",
      "Epoch 16/30, Accuracy on Training Set: 78.3115, Accuracy on Test Set: 76.0022\n",
      "Epoch 17/30, Accuracy on Training Set: 78.9099, Accuracy on Test Set: 76.3317\n",
      "Epoch 18/30, Accuracy on Training Set: 79.4563, Accuracy on Test Set: 76.4415\n",
      "Epoch 19/30, Accuracy on Training Set: 79.9522, Accuracy on Test Set: 76.3866\n",
      "Epoch 20/30, Accuracy on Training Set: 80.3457, Accuracy on Test Set: 76.6612\n",
      "Epoch 21/30, Accuracy on Training Set: 80.7555, Accuracy on Test Set: 77.1005\n",
      "Epoch 22/30, Accuracy on Training Set: 81.1222, Accuracy on Test Set: 77.2103\n",
      "Epoch 23/30, Accuracy on Training Set: 81.4919, Accuracy on Test Set: 77.2652\n",
      "Epoch 24/30, Accuracy on Training Set: 81.8156, Accuracy on Test Set: 77.3202\n",
      "Epoch 25/30, Accuracy on Training Set: 82.1334, Accuracy on Test Set: 76.9357\n",
      "Epoch 26/30, Accuracy on Training Set: 82.3932, Accuracy on Test Set: 77.1005\n",
      "Epoch 27/30, Accuracy on Training Set: 82.6308, Accuracy on Test Set: 77.1005\n",
      "Epoch 28/30, Accuracy on Training Set: 82.8594, Accuracy on Test Set: 77.3751\n",
      "Epoch 29/30, Accuracy on Training Set: 83.0955, Accuracy on Test Set: 77.4849\n",
      "Epoch 30/30, Accuracy on Training Set: 83.2781, Accuracy on Test Set: 77.7046\n",
      "\n",
      "\n"
     ]
    },
    {
     "data": {
      "image/png": "[encoded data removed]",
      "text/plain": [
       "<Figure size 1008x576 with 2 Axes>"
      ]
     },
     "metadata": {},
     "output_type": "display_data"
    }
   ],
   "source": [
    "my_embedings_perceptron.fit(train_loader_gpu, test_loader_gpu, gpu=True)"
   ]
  },
  {
   "cell_type": "markdown",
   "metadata": {},
   "source": [
    "The very simple perceptron architecture achieved an anccuracy of 77.7% on the test set. Let's now try to feed it some examples to see where it stands."
   ]
  },
  {
   "cell_type": "code",
   "execution_count": 43,
   "metadata": {},
   "outputs": [
    {
     "data": {
      "text/plain": [
       "1"
      ]
     },
     "execution_count": 43,
     "metadata": {},
     "output_type": "execute_result"
    }
   ],
   "source": [
    "my_embedings_perceptron.predict('I really liked the main actor and the storyline')"
   ]
  },
  {
   "cell_type": "code",
   "execution_count": 41,
   "metadata": {},
   "outputs": [
    {
     "data": {
      "text/plain": [
       "0"
      ]
     },
     "execution_count": 41,
     "metadata": {},
     "output_type": "execute_result"
    }
   ],
   "source": [
    "my_embedings_perceptron.predict('I am quite unsure about whether I like this movie...')"
   ]
  },
  {
   "cell_type": "code",
   "execution_count": 42,
   "metadata": {},
   "outputs": [
    {
     "data": {
      "text/plain": [
       "1"
      ]
     },
     "execution_count": 42,
     "metadata": {},
     "output_type": "execute_result"
    }
   ],
   "source": [
    "my_embedings_perceptron.predict('Looking forward to the sequel...')"
   ]
  },
  {
   "cell_type": "code",
   "execution_count": 45,
   "metadata": {
    "scrolled": true
   },
   "outputs": [
    {
     "data": {
      "text/plain": [
       "0"
      ]
     },
     "execution_count": 45,
     "metadata": {},
     "output_type": "execute_result"
    }
   ],
   "source": [
    "my_embedings_perceptron.predict('After watching this movie, I want to die')"
   ]
  },
  {
   "cell_type": "markdown",
   "metadata": {},
   "source": [
    "As a next step, we are going to try with a more complex architecture. For instance, after the embeddings layer and before the last layer, we will add a 30-dimensional hidden layer."
   ]
  },
  {
   "cell_type": "code",
   "execution_count": 50,
   "metadata": {},
   "outputs": [],
   "source": [
    "# Now let's try with a more complex architecture\n",
    "\n",
    "class deep_nn(neural_network_sentiment):\n",
    "    \n",
    "    def __init__(self, dictionary_length, n_embeddings, n_hidden, n_classes):\n",
    "        super().__init__()\n",
    "        self.dictionary_length = dictionary_length\n",
    "        self.n_embeddings = n_embeddings\n",
    "        self.n_classes = n_classes\n",
    "        self.n_hidden = n_hidden\n",
    "        \n",
    "        self.act = nn.ReLU()\n",
    "        self.embeddings = nn.Embedding(dictionary_length, self.n_embeddings, padding_idx=0, sparse=True) \n",
    "        self.fc1 = nn.Linear(n_embeddings, n_hidden)\n",
    "        self.fc2 = nn.Linear(n_hidden, n_classes)\n",
    "\n",
    "        \n",
    "    def forward(self, x):\n",
    "        embeds = self.embeddings(x)\n",
    "        \n",
    "        if len(embeds.shape) == 2:\n",
    "            mean_embeds = torch.mean(embeds, 0)\n",
    "            \n",
    "        elif len(embeds.shape) == 3:\n",
    "            mean_embeds = []\n",
    "            for embed in embeds:\n",
    "                mean_embeds.append(torch.mean(embed,0).reshape(1,self.n_embeddings))\n",
    "            mean_embeds = torch.cat(mean_embeds, 0)\n",
    "        \n",
    "        \n",
    "        out = self.fc1(mean_embeds)\n",
    "        out = self.act(out)\n",
    "        out = self.fc2(out)\n",
    "        return(out)"
   ]
  },
  {
   "cell_type": "code",
   "execution_count": 51,
   "metadata": {},
   "outputs": [],
   "source": [
    "# Instantiate the nework\n",
    "my_deep_nn_0 = deep_nn_0(len(word_to_idx), 10, 30, 2)"
   ]
  },
  {
   "cell_type": "code",
   "execution_count": 52,
   "metadata": {},
   "outputs": [
    {
     "name": "stdout",
     "output_type": "stream",
     "text": [
      "Epoch 1/30, Accuracy on Training Set: 55.4663, Accuracy on Test Set: 52.1142\n",
      "Epoch 2/30, Accuracy on Training Set: 57.9207, Accuracy on Test Set: 55.9033\n",
      "Epoch 3/30, Accuracy on Training Set: 60.4092, Accuracy on Test Set: 58.5942\n",
      "Epoch 4/30, Accuracy on Training Set: 62.7760, Accuracy on Test Set: 61.7243\n",
      "Epoch 5/30, Accuracy on Training Set: 65.0997, Accuracy on Test Set: 64.3053\n",
      "Epoch 6/30, Accuracy on Training Set: 67.2007, Accuracy on Test Set: 65.8979\n",
      "Epoch 7/30, Accuracy on Training Set: 69.2082, Accuracy on Test Set: 67.9297\n",
      "Epoch 8/30, Accuracy on Training Set: 71.1057, Accuracy on Test Set: 69.5772\n",
      "Epoch 9/30, Accuracy on Training Set: 72.6574, Accuracy on Test Set: 70.4009\n",
      "Epoch 10/30, Accuracy on Training Set: 74.2075, Accuracy on Test Set: 70.8402\n",
      "Epoch 11/30, Accuracy on Training Set: 75.4458, Accuracy on Test Set: 71.4992\n",
      "Epoch 12/30, Accuracy on Training Set: 76.6440, Accuracy on Test Set: 72.2131\n",
      "Epoch 13/30, Accuracy on Training Set: 77.6493, Accuracy on Test Set: 72.8171\n",
      "Epoch 14/30, Accuracy on Training Set: 78.5669, Accuracy on Test Set: 73.9154\n",
      "Epoch 15/30, Accuracy on Training Set: 79.4117, Accuracy on Test Set: 74.4097\n",
      "Epoch 16/30, Accuracy on Training Set: 80.1794, Accuracy on Test Set: 74.4646\n",
      "Epoch 17/30, Accuracy on Training Set: 80.7555, Accuracy on Test Set: 74.5195\n",
      "Epoch 18/30, Accuracy on Training Set: 81.4147, Accuracy on Test Set: 74.8490\n",
      "Epoch 19/30, Accuracy on Training Set: 81.9314, Accuracy on Test Set: 75.2334\n",
      "Epoch 20/30, Accuracy on Training Set: 82.4274, Accuracy on Test Set: 76.0571\n",
      "Epoch 21/30, Accuracy on Training Set: 82.9203, Accuracy on Test Set: 76.2768\n",
      "Epoch 22/30, Accuracy on Training Set: 83.3643, Accuracy on Test Set: 76.3317\n",
      "Epoch 23/30, Accuracy on Training Set: 83.6909, Accuracy on Test Set: 76.5513\n",
      "Epoch 24/30, Accuracy on Training Set: 83.9686, Accuracy on Test Set: 76.5513\n",
      "Epoch 25/30, Accuracy on Training Set: 84.2804, Accuracy on Test Set: 76.7161\n",
      "Epoch 26/30, Accuracy on Training Set: 84.5907, Accuracy on Test Set: 76.8808\n",
      "Epoch 27/30, Accuracy on Training Set: 84.8491, Accuracy on Test Set: 77.2103\n",
      "Epoch 28/30, Accuracy on Training Set: 85.1015, Accuracy on Test Set: 77.2652\n",
      "Epoch 29/30, Accuracy on Training Set: 85.2797, Accuracy on Test Set: 77.4849\n",
      "Epoch 30/30, Accuracy on Training Set: 85.4712, Accuracy on Test Set: 77.5947\n",
      "\n",
      "\n"
     ]
    },
    {
     "data": {
      "image/png": "[encoded data removed]",
      "text/plain": [
       "<Figure size 1008x576 with 2 Axes>"
      ]
     },
     "metadata": {},
     "output_type": "display_data"
    }
   ],
   "source": [
    "my_deep_nn_0.fit(train_loader_gpu, test_loader_gpu, gpu=True)"
   ]
  },
  {
   "cell_type": "markdown",
   "metadata": {},
   "source": [
    "The more complex architecture does not seem to have improved the accuracy measure on the test set. We will choose this model as the final model regardless of this."
   ]
  },
  {
   "cell_type": "code",
   "execution_count": 53,
   "metadata": {},
   "outputs": [
    {
     "data": {
      "image/png": "[encoded data removed]",
      "text/plain": [
       "<Figure size 1008x576 with 1 Axes>"
      ]
     },
     "metadata": {},
     "output_type": "display_data"
    },
    {
     "data": {
      "image/png": "[encoded data removed]",
      "text/plain": [
       "<Figure size 1008x576 with 1 Axes>"
      ]
     },
     "metadata": {},
     "output_type": "display_data"
    }
   ],
   "source": [
    "# Let's pick model my_deep_nn_0_0 as it showed superior performance\n",
    "final_model = my_deep_nn_0\n",
    "\n",
    "# Generate the pictures\n",
    "my_deep_nn_0.generate_training_pictures()"
   ]
  },
  {
   "cell_type": "code",
   "execution_count": 54,
   "metadata": {},
   "outputs": [
    {
     "data": {
      "text/plain": [
       "1"
      ]
     },
     "execution_count": 54,
     "metadata": {},
     "output_type": "execute_result"
    }
   ],
   "source": [
    "final_model.predict('I really liked the main actor and the storyline')"
   ]
  },
  {
   "cell_type": "code",
   "execution_count": 55,
   "metadata": {},
   "outputs": [
    {
     "data": {
      "text/plain": [
       "0"
      ]
     },
     "execution_count": 55,
     "metadata": {},
     "output_type": "execute_result"
    }
   ],
   "source": [
    "final_model.predict('I am quite unsure about whether I like this movie...')"
   ]
  },
  {
   "cell_type": "code",
   "execution_count": 56,
   "metadata": {},
   "outputs": [
    {
     "data": {
      "text/plain": [
       "0"
      ]
     },
     "execution_count": 56,
     "metadata": {},
     "output_type": "execute_result"
    }
   ],
   "source": [
    "final_model.predict('Looking forward to the sequel...')"
   ]
  },
  {
   "cell_type": "code",
   "execution_count": 57,
   "metadata": {
    "scrolled": true
   },
   "outputs": [
    {
     "data": {
      "text/plain": [
       "0"
      ]
     },
     "execution_count": 57,
     "metadata": {},
     "output_type": "execute_result"
    }
   ],
   "source": [
    "final_model.predict('After watching this movie, I want to die')"
   ]
  },
  {
   "cell_type": "code",
   "execution_count": 58,
   "metadata": {},
   "outputs": [],
   "source": [
    "# Create a dictionary with our learned embeddings. Extracting them from the embeddings layer.\n",
    "\n",
    "my_embeddings = {word: final_model.embeddings(torch.LongTensor([word_to_idx[word]])) for word in word_to_idx}"
   ]
  },
  {
   "cell_type": "code",
   "execution_count": 59,
   "metadata": {},
   "outputs": [
    {
     "data": {
      "text/plain": [
       "tensor([[ 0.7528,  0.5303,  1.2054,  1.5776, -0.2745, -0.6218,  1.1140,\n",
       "         -0.9991,  0.1550, -0.4906]])"
      ]
     },
     "execution_count": 59,
     "metadata": {},
     "output_type": "execute_result"
    }
   ],
   "source": [
    "# Check\n",
    "my_embeddings['amazing']"
   ]
  },
  {
   "cell_type": "markdown",
   "metadata": {},
   "source": [
    "As a final step for the project, let's compare the embeddings by means of the euclidean norm. Because of how the architecture is constructed, we would expect that words that carry little meaning in realation to the sentiment classification task would have a small euclidean norm, as they would carry less weight when computing the mean. On the other hand, words which carry greater meaning in relation to the task are expected to carry also greater euclidian norms."
   ]
  },
  {
   "cell_type": "code",
   "execution_count": 60,
   "metadata": {},
   "outputs": [
    {
     "data": {
      "text/html": [
       "<div>\n",
       "<style scoped>\n",
       "    .dataframe tbody tr th:only-of-type {\n",
       "        vertical-align: middle;\n",
       "    }\n",
       "\n",
       "    .dataframe tbody tr th {\n",
       "        vertical-align: top;\n",
       "    }\n",
       "\n",
       "    .dataframe thead th {\n",
       "        text-align: right;\n",
       "    }\n",
       "</style>\n",
       "<table border=\"1\" class=\"dataframe\">\n",
       "  <thead>\n",
       "    <tr style=\"text-align: right;\">\n",
       "      <th></th>\n",
       "      <th>Index</th>\n",
       "      <th>Euclidian Norm</th>\n",
       "      <th>Word</th>\n",
       "    </tr>\n",
       "  </thead>\n",
       "  <tbody>\n",
       "    <tr>\n",
       "      <th>0</th>\n",
       "      <td>1.0</td>\n",
       "      <td>3.030581</td>\n",
       "      <td>a</td>\n",
       "    </tr>\n",
       "    <tr>\n",
       "      <th>1</th>\n",
       "      <td>2.0</td>\n",
       "      <td>3.655054</td>\n",
       "      <td>aaa</td>\n",
       "    </tr>\n",
       "    <tr>\n",
       "      <th>2</th>\n",
       "      <td>3.0</td>\n",
       "      <td>2.927698</td>\n",
       "      <td>aaliyah</td>\n",
       "    </tr>\n",
       "    <tr>\n",
       "      <th>3</th>\n",
       "      <td>4.0</td>\n",
       "      <td>3.852015</td>\n",
       "      <td>aan</td>\n",
       "    </tr>\n",
       "    <tr>\n",
       "      <th>4</th>\n",
       "      <td>5.0</td>\n",
       "      <td>2.750056</td>\n",
       "      <td>abandon</td>\n",
       "    </tr>\n",
       "  </tbody>\n",
       "</table>\n",
       "</div>"
      ],
      "text/plain": [
       "   Index  Euclidian Norm     Word\n",
       "0    1.0        3.030581        a\n",
       "1    2.0        3.655054      aaa\n",
       "2    3.0        2.927698  aaliyah\n",
       "3    4.0        3.852015      aan\n",
       "4    5.0        2.750056  abandon"
      ]
     },
     "execution_count": 60,
     "metadata": {},
     "output_type": "execute_result"
    }
   ],
   "source": [
    "# Compute the euclidian norm and sort the words by their norms\n",
    "\n",
    "norms_array = np.array([[idx, torch.norm(my_embeddings[idx_to_word[idx]]).data.numpy()] for idx in idx_to_word])\n",
    "norms_dataframe = pd.DataFrame(norms_array, columns=['Index', 'Euclidian Norm'])\n",
    "norms_dataframe['Word'] = list(map(lambda x: idx_to_word[x], norms_dataframe.Index))\n",
    "norms_dataframe.head()"
   ]
  },
  {
   "cell_type": "code",
   "execution_count": 61,
   "metadata": {},
   "outputs": [
    {
     "data": {
      "text/html": [
       "<div>\n",
       "<style scoped>\n",
       "    .dataframe tbody tr th:only-of-type {\n",
       "        vertical-align: middle;\n",
       "    }\n",
       "\n",
       "    .dataframe tbody tr th {\n",
       "        vertical-align: top;\n",
       "    }\n",
       "\n",
       "    .dataframe thead th {\n",
       "        text-align: right;\n",
       "    }\n",
       "</style>\n",
       "<table border=\"1\" class=\"dataframe\">\n",
       "  <thead>\n",
       "    <tr style=\"text-align: right;\">\n",
       "      <th></th>\n",
       "      <th>Index</th>\n",
       "      <th>Euclidian Norm</th>\n",
       "      <th>Word</th>\n",
       "    </tr>\n",
       "  </thead>\n",
       "  <tbody>\n",
       "    <tr>\n",
       "      <th>13622</th>\n",
       "      <td>0.0</td>\n",
       "      <td>0.000000</td>\n",
       "      <td>__unknown__</td>\n",
       "    </tr>\n",
       "    <tr>\n",
       "      <th>8944</th>\n",
       "      <td>8945.0</td>\n",
       "      <td>0.948282</td>\n",
       "      <td>plumbing</td>\n",
       "    </tr>\n",
       "    <tr>\n",
       "      <th>1163</th>\n",
       "      <td>1164.0</td>\n",
       "      <td>0.974565</td>\n",
       "      <td>black</td>\n",
       "    </tr>\n",
       "    <tr>\n",
       "      <th>6076</th>\n",
       "      <td>6077.0</td>\n",
       "      <td>0.988438</td>\n",
       "      <td>indescribably</td>\n",
       "    </tr>\n",
       "    <tr>\n",
       "      <th>3776</th>\n",
       "      <td>3777.0</td>\n",
       "      <td>1.021570</td>\n",
       "      <td>elements</td>\n",
       "    </tr>\n",
       "    <tr>\n",
       "      <th>3729</th>\n",
       "      <td>3730.0</td>\n",
       "      <td>1.052856</td>\n",
       "      <td>effecting</td>\n",
       "    </tr>\n",
       "    <tr>\n",
       "      <th>9525</th>\n",
       "      <td>9526.0</td>\n",
       "      <td>1.082948</td>\n",
       "      <td>ramblings</td>\n",
       "    </tr>\n",
       "    <tr>\n",
       "      <th>7282</th>\n",
       "      <td>7283.0</td>\n",
       "      <td>1.110870</td>\n",
       "      <td>makes</td>\n",
       "    </tr>\n",
       "    <tr>\n",
       "      <th>5047</th>\n",
       "      <td>5048.0</td>\n",
       "      <td>1.114822</td>\n",
       "      <td>gets</td>\n",
       "    </tr>\n",
       "    <tr>\n",
       "      <th>7149</th>\n",
       "      <td>7150.0</td>\n",
       "      <td>1.119080</td>\n",
       "      <td>louis</td>\n",
       "    </tr>\n",
       "  </tbody>\n",
       "</table>\n",
       "</div>"
      ],
      "text/plain": [
       "        Index  Euclidian Norm           Word\n",
       "13622     0.0        0.000000    __unknown__\n",
       "8944   8945.0        0.948282       plumbing\n",
       "1163   1164.0        0.974565          black\n",
       "6076   6077.0        0.988438  indescribably\n",
       "3776   3777.0        1.021570       elements\n",
       "3729   3730.0        1.052856      effecting\n",
       "9525   9526.0        1.082948      ramblings\n",
       "7282   7283.0        1.110870          makes\n",
       "5047   5048.0        1.114822           gets\n",
       "7149   7150.0        1.119080          louis"
      ]
     },
     "execution_count": 61,
     "metadata": {},
     "output_type": "execute_result"
    }
   ],
   "source": [
    "# Let's sort the dataframe by the squared norm\n",
    "norms_dataframe_sorted = norms_dataframe.sort_values(['Euclidian Norm'])\n",
    "norms_dataframe_sorted.head(10)"
   ]
  },
  {
   "cell_type": "code",
   "execution_count": 62,
   "metadata": {},
   "outputs": [
    {
     "data": {
      "text/html": [
       "<div>\n",
       "<style scoped>\n",
       "    .dataframe tbody tr th:only-of-type {\n",
       "        vertical-align: middle;\n",
       "    }\n",
       "\n",
       "    .dataframe tbody tr th {\n",
       "        vertical-align: top;\n",
       "    }\n",
       "\n",
       "    .dataframe thead th {\n",
       "        text-align: right;\n",
       "    }\n",
       "</style>\n",
       "<table border=\"1\" class=\"dataframe\">\n",
       "  <thead>\n",
       "    <tr style=\"text-align: right;\">\n",
       "      <th></th>\n",
       "      <th>Index</th>\n",
       "      <th>Euclidian Norm</th>\n",
       "      <th>Word</th>\n",
       "    </tr>\n",
       "  </thead>\n",
       "  <tbody>\n",
       "    <tr>\n",
       "      <th>2565</th>\n",
       "      <td>2566.0</td>\n",
       "      <td>5.721457</td>\n",
       "      <td>corpus</td>\n",
       "    </tr>\n",
       "    <tr>\n",
       "      <th>2675</th>\n",
       "      <td>2676.0</td>\n",
       "      <td>5.746893</td>\n",
       "      <td>credulity</td>\n",
       "    </tr>\n",
       "    <tr>\n",
       "      <th>32</th>\n",
       "      <td>33.0</td>\n",
       "      <td>5.849086</td>\n",
       "      <td>absorbed</td>\n",
       "    </tr>\n",
       "    <tr>\n",
       "      <th>8896</th>\n",
       "      <td>8897.0</td>\n",
       "      <td>5.944662</td>\n",
       "      <td>play</td>\n",
       "    </tr>\n",
       "    <tr>\n",
       "      <th>1372</th>\n",
       "      <td>1373.0</td>\n",
       "      <td>5.949636</td>\n",
       "      <td>boyd</td>\n",
       "    </tr>\n",
       "    <tr>\n",
       "      <th>5182</th>\n",
       "      <td>5183.0</td>\n",
       "      <td>5.980849</td>\n",
       "      <td>gore</td>\n",
       "    </tr>\n",
       "    <tr>\n",
       "      <th>8124</th>\n",
       "      <td>8125.0</td>\n",
       "      <td>5.998602</td>\n",
       "      <td>not</td>\n",
       "    </tr>\n",
       "    <tr>\n",
       "      <th>7275</th>\n",
       "      <td>7276.0</td>\n",
       "      <td>6.326975</td>\n",
       "      <td>majidi</td>\n",
       "    </tr>\n",
       "    <tr>\n",
       "      <th>5977</th>\n",
       "      <td>5978.0</td>\n",
       "      <td>6.337446</td>\n",
       "      <td>imperfect</td>\n",
       "    </tr>\n",
       "    <tr>\n",
       "      <th>13493</th>\n",
       "      <td>13494.0</td>\n",
       "      <td>6.760353</td>\n",
       "      <td>worst</td>\n",
       "    </tr>\n",
       "  </tbody>\n",
       "</table>\n",
       "</div>"
      ],
      "text/plain": [
       "         Index  Euclidian Norm       Word\n",
       "2565    2566.0        5.721457     corpus\n",
       "2675    2676.0        5.746893  credulity\n",
       "32        33.0        5.849086   absorbed\n",
       "8896    8897.0        5.944662       play\n",
       "1372    1373.0        5.949636       boyd\n",
       "5182    5183.0        5.980849       gore\n",
       "8124    8125.0        5.998602        not\n",
       "7275    7276.0        6.326975     majidi\n",
       "5977    5978.0        6.337446  imperfect\n",
       "13493  13494.0        6.760353      worst"
      ]
     },
     "execution_count": 62,
     "metadata": {},
     "output_type": "execute_result"
    }
   ],
   "source": [
    "norms_dataframe_sorted.tail(10)"
   ]
  },
  {
   "cell_type": "markdown",
   "metadata": {},
   "source": [
    "The sorted words seem to confirm our assumptions about the meaning of the words, with a few exceptions which are probably peculiar to this dataset."
   ]
  },
  {
   "cell_type": "code",
   "execution_count": 63,
   "metadata": {},
   "outputs": [],
   "source": [
    "# Saving the files needed for submission\n",
    "\n",
    "# Creating Directory\n",
    "if not os.path.exists(root_dir + '/to_submit'):\n",
    "    os.makedirs(root_dir + '/to_submit')\n",
    "\n",
    "# Changing working directory\n",
    "os.chdir(root_dir + '/to_submit')\n",
    "\n",
    "# Saving the model as a dict\n",
    "torch.save(final_model.state_dict(), \"./part2_state.chkpt\")\n",
    "\n",
    "# Saving Accuracy on train and test set in a new text file\n",
    "with open('project1_part2_results.txt','w+') as file:\n",
    "    file.write(str(final_model.train_accuracy[-1]))\n",
    "    file.write('\\n')\n",
    "    file.write(str(final_model.test_accuracy[-1]))\n",
    "    file.close()\n",
    "\n",
    "# Saving plots\n",
    "final_model.fig1.savefig('project1_part2_plots_loss.png')\n",
    "final_model.fig2.savefig('project1_part2_plots_accuracy.png')"
   ]
  }
 ],
 "metadata": {
  "kernelspec": {
   "display_name": "Python 3",
   "language": "python",
   "name": "python3"
  },
  "language_info": {
   "codemirror_mode": {
    "name": "ipython",
    "version": 3
   },
   "file_extension": ".py",
   "mimetype": "text/x-python",
   "name": "python",
   "nbconvert_exporter": "python",
   "pygments_lexer": "ipython3",
   "version": "3.6.5"
  }
 },
 "nbformat": 4,
 "nbformat_minor": 2
}
